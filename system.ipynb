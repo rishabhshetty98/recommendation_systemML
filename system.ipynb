{
 "metadata": {
  "language_info": {
   "codemirror_mode": {
    "name": "ipython",
    "version": 3
   },
   "file_extension": ".py",
   "mimetype": "text/x-python",
   "name": "python",
   "nbconvert_exporter": "python",
   "pygments_lexer": "ipython3",
   "version": "3.8.3-final"
  },
  "orig_nbformat": 2,
  "kernelspec": {
   "name": "python3",
   "display_name": "Python 3"
  }
 },
 "nbformat": 4,
 "nbformat_minor": 2,
 "cells": [
  {
   "cell_type": "code",
   "execution_count": 445,
   "metadata": {},
   "outputs": [],
   "source": [
    "import pandas as pd\n",
    "import numpy as np \n",
    "from category_encoders import BinaryEncoder\n",
    "from sklearn.model_selection import train_test_split\n",
    "from sklearn.preprocessing import LabelEncoder, OneHotEncoder\n",
    "from sklearn.feature_extraction.text import CountVectorizer\n",
    "from sklearn.metrics.pairwise import cosine_similarity\n",
    "import pickle\n",
    "from sklearn.cluster import KMeans\n",
    "from sklearn.cluster import DBSCAN\n",
    "from sklearn.decomposition import PCA\n",
    "import random\n",
    "import matplotlib.pyplot as plt \n"
   ]
  },
  {
   "cell_type": "code",
   "execution_count": 446,
   "metadata": {},
   "outputs": [],
   "source": [
    "cb_df = pd.read_csv('similarpostsfeatureset.csv')\n",
    "cb_df['features'].fillna('',inplace=True)"
   ]
  },
  {
   "cell_type": "code",
   "execution_count": 447,
   "metadata": {},
   "outputs": [],
   "source": [
    "def title_from_index(index):\n",
    "    return cb_df[cb_df.index == index]['title'].values[0]\n",
    "\n",
    "def index_from_title(title):\n",
    "    return cb_df[cb_df.title == title].index.values[0]"
   ]
  },
  {
   "cell_type": "code",
   "execution_count": 448,
   "metadata": {},
   "outputs": [],
   "source": [
    "#Precalculated on updating dataset\n",
    "cv = CountVectorizer()\n",
    "count_matrix = cv.fit_transform(cb_df['features'])\n",
    "\n",
    "cosine_sim = cosine_similarity(count_matrix)"
   ]
  },
  {
   "source": [
    "Similar Posts takes post name as a parameter to look for other related posts."
   ],
   "cell_type": "markdown",
   "metadata": {}
  },
  {
   "cell_type": "code",
   "execution_count": 449,
   "metadata": {},
   "outputs": [],
   "source": [
    "def related_posts(post_name):\n",
    "\n",
    "    post_index = index_from_title(post_name)\n",
    "    similar_post = list(enumerate(cosine_sim[post_index]))\n",
    "    sorted_similar_post = sorted(similar_post, key= lambda x:x[1], reverse=True)\n",
    "    i=0\n",
    "    for post in sorted_similar_post:\n",
    "        print(title_from_index(post[0]))\n",
    "        i = i+1\n",
    "        if i==5:\n",
    "            break"
   ]
  },
  {
   "cell_type": "code",
   "execution_count": 450,
   "metadata": {},
   "outputs": [
    {
     "output_type": "stream",
     "name": "stdout",
     "text": [
      "Ml and AI\n10 Best Artificial Intelligence (AI) Courses Online for 2020\n8 Best Machine Learning Courses for 2020\nArtificial Intelligence\nTypes Of AI.\n"
     ]
    }
   ],
   "source": [
    "related_posts('Ml and AI')"
   ]
  },
  {
   "source": [
    "Recommendation system "
   ],
   "cell_type": "markdown",
   "metadata": {}
  },
  {
   "cell_type": "code",
   "execution_count": 451,
   "metadata": {},
   "outputs": [],
   "source": [
    "X_train = pickle.load(open('X_train.pickle','rb'))\n",
    "X_test = pickle.load(open('X_test.pickle','rb'))\n",
    "y_train = pickle.load(open('y_train.pickle','rb'))\n",
    "y_test = pickle.load(open('y_test.pickle','rb'))\n",
    "posts_df = pickle.load(open('postcat.pickle','rb'))\n",
    "postviewer = pickle.load(open('postviewer.pickle','rb'))\n",
    "views = pickle.load(open('views.pickle','rb'))\n",
    "posts_df['cate'] = posts_df['cate'].astype('str')\n"
   ]
  },
  {
   "cell_type": "code",
   "execution_count": 452,
   "metadata": {},
   "outputs": [
    {
     "output_type": "execute_result",
     "data": {
      "text/plain": [
       "       Category  gender  academics post_type\n",
       "0     011011000       0          1         1\n",
       "1     001001010       1          1         3\n",
       "2     000001111       1          1         1\n",
       "3     001011111       1          1         3\n",
       "4     001001010       1          1         3\n",
       "...         ...     ...        ...       ...\n",
       "1444  000000100       1          1         1\n",
       "1445  001101011       1          1         1\n",
       "1446  000000100       1          1         1\n",
       "1447  001101111       1          1         3\n",
       "1448  000010101       1          1         1\n",
       "\n",
       "[1447 rows x 4 columns]"
      ],
      "text/html": "<div>\n<style scoped>\n    .dataframe tbody tr th:only-of-type {\n        vertical-align: middle;\n    }\n\n    .dataframe tbody tr th {\n        vertical-align: top;\n    }\n\n    .dataframe thead th {\n        text-align: right;\n    }\n</style>\n<table border=\"1\" class=\"dataframe\">\n  <thead>\n    <tr style=\"text-align: right;\">\n      <th></th>\n      <th>Category</th>\n      <th>gender</th>\n      <th>academics</th>\n      <th>post_type</th>\n    </tr>\n  </thead>\n  <tbody>\n    <tr>\n      <th>0</th>\n      <td>011011000</td>\n      <td>0</td>\n      <td>1</td>\n      <td>1</td>\n    </tr>\n    <tr>\n      <th>1</th>\n      <td>001001010</td>\n      <td>1</td>\n      <td>1</td>\n      <td>3</td>\n    </tr>\n    <tr>\n      <th>2</th>\n      <td>000001111</td>\n      <td>1</td>\n      <td>1</td>\n      <td>1</td>\n    </tr>\n    <tr>\n      <th>3</th>\n      <td>001011111</td>\n      <td>1</td>\n      <td>1</td>\n      <td>3</td>\n    </tr>\n    <tr>\n      <th>4</th>\n      <td>001001010</td>\n      <td>1</td>\n      <td>1</td>\n      <td>3</td>\n    </tr>\n    <tr>\n      <th>...</th>\n      <td>...</td>\n      <td>...</td>\n      <td>...</td>\n      <td>...</td>\n    </tr>\n    <tr>\n      <th>1444</th>\n      <td>000000100</td>\n      <td>1</td>\n      <td>1</td>\n      <td>1</td>\n    </tr>\n    <tr>\n      <th>1445</th>\n      <td>001101011</td>\n      <td>1</td>\n      <td>1</td>\n      <td>1</td>\n    </tr>\n    <tr>\n      <th>1446</th>\n      <td>000000100</td>\n      <td>1</td>\n      <td>1</td>\n      <td>1</td>\n    </tr>\n    <tr>\n      <th>1447</th>\n      <td>001101111</td>\n      <td>1</td>\n      <td>1</td>\n      <td>3</td>\n    </tr>\n    <tr>\n      <th>1448</th>\n      <td>000010101</td>\n      <td>1</td>\n      <td>1</td>\n      <td>1</td>\n    </tr>\n  </tbody>\n</table>\n<p>1447 rows × 4 columns</p>\n</div>"
     },
     "metadata": {},
     "execution_count": 452
    }
   ],
   "source": [
    "X_map = views\n",
    "views"
   ]
  },
  {
   "cell_type": "code",
   "execution_count": 453,
   "metadata": {},
   "outputs": [
    {
     "output_type": "execute_result",
     "data": {
      "text/plain": [
       "                          _id  \\\n",
       "0    5d62abaa65218653a132c956   \n",
       "1    5d6d39567fa40e1417a4931c   \n",
       "2    5d7d23315720533e15c3b1ee   \n",
       "3    5d7d405e5720533e15c3b1f3   \n",
       "4    5d80dfbc6c53455f896e600e   \n",
       "..                        ...   \n",
       "488  5ed3791976027d35905ccab6   \n",
       "489  5ed3820f76027d35905ccac8   \n",
       "490  5ed3ef4cbd514d602c1530f2   \n",
       "491  5ed415c6bd514d602c15312d   \n",
       "492  5ed4cbadbd514d602c1531a6   \n",
       "\n",
       "                                                 title  \\\n",
       "0                                          hello there   \n",
       "1                                            Ml and AI   \n",
       "2                        What is an Operating System ?   \n",
       "3                                           Lord Shiva   \n",
       "4                         How Competition law evolved?   \n",
       "..                                                 ...   \n",
       "488                         CI/CD using GitHub Actions   \n",
       "489  Configure Docker with Django; PostgreSQL; Pg-a...   \n",
       "490                              Recommendation Engine   \n",
       "491          Face Recognition using Transfer Learning.   \n",
       "492  Configure CI/CD Pipeline in GitLab and deploym...   \n",
       "\n",
       "                                              category  post_type       cate  \n",
       "0                                  Plant Biotechnology       blog  000000001  \n",
       "1    Artificial Intelligence|Machine Learning|Infor...       blog  000000010  \n",
       "2                                    Operating Systems       blog  000000011  \n",
       "3                                             Drawings    artwork  000000100  \n",
       "4                                     Competition Laws       blog  000000101  \n",
       "..                                                 ...        ...        ...  \n",
       "488         Computer Technology|Information Technology       blog  000001011  \n",
       "489  Computer Technology|Computer Application|Infor...       blog  001001010  \n",
       "490                                                NaN    project  000010001  \n",
       "491                                Science; Technology      skill  011101000  \n",
       "492  Computer Technology|Computer Application|Infor...       blog  001001010  \n",
       "\n",
       "[493 rows x 5 columns]"
      ],
      "text/html": "<div>\n<style scoped>\n    .dataframe tbody tr th:only-of-type {\n        vertical-align: middle;\n    }\n\n    .dataframe tbody tr th {\n        vertical-align: top;\n    }\n\n    .dataframe thead th {\n        text-align: right;\n    }\n</style>\n<table border=\"1\" class=\"dataframe\">\n  <thead>\n    <tr style=\"text-align: right;\">\n      <th></th>\n      <th>_id</th>\n      <th>title</th>\n      <th>category</th>\n      <th>post_type</th>\n      <th>cate</th>\n    </tr>\n  </thead>\n  <tbody>\n    <tr>\n      <th>0</th>\n      <td>5d62abaa65218653a132c956</td>\n      <td>hello there</td>\n      <td>Plant Biotechnology</td>\n      <td>blog</td>\n      <td>000000001</td>\n    </tr>\n    <tr>\n      <th>1</th>\n      <td>5d6d39567fa40e1417a4931c</td>\n      <td>Ml and AI</td>\n      <td>Artificial Intelligence|Machine Learning|Infor...</td>\n      <td>blog</td>\n      <td>000000010</td>\n    </tr>\n    <tr>\n      <th>2</th>\n      <td>5d7d23315720533e15c3b1ee</td>\n      <td>What is an Operating System ?</td>\n      <td>Operating Systems</td>\n      <td>blog</td>\n      <td>000000011</td>\n    </tr>\n    <tr>\n      <th>3</th>\n      <td>5d7d405e5720533e15c3b1f3</td>\n      <td>Lord Shiva</td>\n      <td>Drawings</td>\n      <td>artwork</td>\n      <td>000000100</td>\n    </tr>\n    <tr>\n      <th>4</th>\n      <td>5d80dfbc6c53455f896e600e</td>\n      <td>How Competition law evolved?</td>\n      <td>Competition Laws</td>\n      <td>blog</td>\n      <td>000000101</td>\n    </tr>\n    <tr>\n      <th>...</th>\n      <td>...</td>\n      <td>...</td>\n      <td>...</td>\n      <td>...</td>\n      <td>...</td>\n    </tr>\n    <tr>\n      <th>488</th>\n      <td>5ed3791976027d35905ccab6</td>\n      <td>CI/CD using GitHub Actions</td>\n      <td>Computer Technology|Information Technology</td>\n      <td>blog</td>\n      <td>000001011</td>\n    </tr>\n    <tr>\n      <th>489</th>\n      <td>5ed3820f76027d35905ccac8</td>\n      <td>Configure Docker with Django; PostgreSQL; Pg-a...</td>\n      <td>Computer Technology|Computer Application|Infor...</td>\n      <td>blog</td>\n      <td>001001010</td>\n    </tr>\n    <tr>\n      <th>490</th>\n      <td>5ed3ef4cbd514d602c1530f2</td>\n      <td>Recommendation Engine</td>\n      <td>NaN</td>\n      <td>project</td>\n      <td>000010001</td>\n    </tr>\n    <tr>\n      <th>491</th>\n      <td>5ed415c6bd514d602c15312d</td>\n      <td>Face Recognition using Transfer Learning.</td>\n      <td>Science; Technology</td>\n      <td>skill</td>\n      <td>011101000</td>\n    </tr>\n    <tr>\n      <th>492</th>\n      <td>5ed4cbadbd514d602c1531a6</td>\n      <td>Configure CI/CD Pipeline in GitLab and deploym...</td>\n      <td>Computer Technology|Computer Application|Infor...</td>\n      <td>blog</td>\n      <td>001001010</td>\n    </tr>\n  </tbody>\n</table>\n<p>493 rows × 5 columns</p>\n</div>"
     },
     "metadata": {},
     "execution_count": 453
    }
   ],
   "source": [
    "posts_df"
   ]
  },
  {
   "cell_type": "code",
   "execution_count": 454,
   "metadata": {},
   "outputs": [
    {
     "output_type": "execute_result",
     "data": {
      "text/plain": [
       "1447"
      ]
     },
     "metadata": {},
     "execution_count": 454
    }
   ],
   "source": [
    "X_train = np.array(X_train)\n",
    "X_test = np.array(X_test)\n",
    "y_train = np.array(y_train)\n",
    "y_test = np.array(y_test)\n",
    "views = np.array(views)\n",
    "len(views)"
   ]
  },
  {
   "cell_type": "code",
   "execution_count": 455,
   "metadata": {},
   "outputs": [
    {
     "output_type": "execute_result",
     "data": {
      "text/plain": [
       "KMeans(n_clusters=15)"
      ]
     },
     "metadata": {},
     "execution_count": 455
    }
   ],
   "source": [
    "algo = KMeans(n_clusters=15, init='k-means++')\n",
    "# algo = DBSCAN()\n",
    "algo.fit(views)\n",
    "# print(algo.labels_)\n",
    "\n",
    "\n",
    "# y_pred = algo.fit_predict(views)\n",
    "# plt.scatter(views[:,0], views[:,1],c=y_pred, cmap='Paired')\n",
    "# plt.title(\"Kmeans\")\n"
   ]
  },
  {
   "cell_type": "code",
   "execution_count": 456,
   "metadata": {},
   "outputs": [],
   "source": [
    "# from sklearn.metrics.cluster import completeness_score\n",
    "# print completeness_score([0, 0, 1, 1], [1, 1, 0, 0])\n",
    "# #Output : 1.0"
   ]
  },
  {
   "cell_type": "code",
   "execution_count": 457,
   "metadata": {},
   "outputs": [
    {
     "output_type": "execute_result",
     "data": {
      "text/plain": [
       "      cluster   category\n",
       "0           1  011011000\n",
       "1           0  001001010\n",
       "2           2  000001111\n",
       "3          11  001011111\n",
       "4           0  001001010\n",
       "...       ...        ...\n",
       "1442        2  001101010\n",
       "1443       12  000000100\n",
       "1444        2  000000100\n",
       "1445       12  001101011\n",
       "1446        8  000000100\n",
       "\n",
       "[1447 rows x 2 columns]"
      ],
      "text/html": "<div>\n<style scoped>\n    .dataframe tbody tr th:only-of-type {\n        vertical-align: middle;\n    }\n\n    .dataframe tbody tr th {\n        vertical-align: top;\n    }\n\n    .dataframe thead th {\n        text-align: right;\n    }\n</style>\n<table border=\"1\" class=\"dataframe\">\n  <thead>\n    <tr style=\"text-align: right;\">\n      <th></th>\n      <th>cluster</th>\n      <th>category</th>\n    </tr>\n  </thead>\n  <tbody>\n    <tr>\n      <th>0</th>\n      <td>1</td>\n      <td>011011000</td>\n    </tr>\n    <tr>\n      <th>1</th>\n      <td>0</td>\n      <td>001001010</td>\n    </tr>\n    <tr>\n      <th>2</th>\n      <td>2</td>\n      <td>000001111</td>\n    </tr>\n    <tr>\n      <th>3</th>\n      <td>11</td>\n      <td>001011111</td>\n    </tr>\n    <tr>\n      <th>4</th>\n      <td>0</td>\n      <td>001001010</td>\n    </tr>\n    <tr>\n      <th>...</th>\n      <td>...</td>\n      <td>...</td>\n    </tr>\n    <tr>\n      <th>1442</th>\n      <td>2</td>\n      <td>001101010</td>\n    </tr>\n    <tr>\n      <th>1443</th>\n      <td>12</td>\n      <td>000000100</td>\n    </tr>\n    <tr>\n      <th>1444</th>\n      <td>2</td>\n      <td>000000100</td>\n    </tr>\n    <tr>\n      <th>1445</th>\n      <td>12</td>\n      <td>001101011</td>\n    </tr>\n    <tr>\n      <th>1446</th>\n      <td>8</td>\n      <td>000000100</td>\n    </tr>\n  </tbody>\n</table>\n<p>1447 rows × 2 columns</p>\n</div>"
     },
     "metadata": {},
     "execution_count": 457
    }
   ],
   "source": [
    "#clustering with all datapoints\n",
    "\n",
    "cluster_map = pd.DataFrame()\n",
    "\n",
    "cluster_map['cluster'] = algo.labels_\n",
    "cluster_map['category'] = X_map['Category']\n",
    "cluster_map"
   ]
  },
  {
   "cell_type": "code",
   "execution_count": 458,
   "metadata": {},
   "outputs": [
    {
     "output_type": "error",
     "ename": "ValueError",
     "evalue": "x and y must be the same size",
     "traceback": [
      "\u001b[1;31m---------------------------------------------------------------------------\u001b[0m",
      "\u001b[1;31mValueError\u001b[0m                                Traceback (most recent call last)",
      "\u001b[1;32m<ipython-input-458-f04fd50d6cf2>\u001b[0m in \u001b[0;36m<module>\u001b[1;34m\u001b[0m\n\u001b[0;32m      2\u001b[0m \u001b[0mx\u001b[0m \u001b[1;33m=\u001b[0m \u001b[1;33m[\u001b[0m\u001b[0mint\u001b[0m\u001b[1;33m(\u001b[0m\u001b[0mi\u001b[0m\u001b[1;33m)\u001b[0m \u001b[1;32mfor\u001b[0m \u001b[0mi\u001b[0m \u001b[1;32min\u001b[0m \u001b[0mx\u001b[0m\u001b[1;33m]\u001b[0m\u001b[1;33m\u001b[0m\u001b[1;33m\u001b[0m\u001b[0m\n\u001b[0;32m      3\u001b[0m \u001b[0my\u001b[0m \u001b[1;33m=\u001b[0m \u001b[0mviews\u001b[0m\u001b[1;33m.\u001b[0m\u001b[0mtolist\u001b[0m\u001b[1;33m(\u001b[0m\u001b[1;33m)\u001b[0m\u001b[1;33m\u001b[0m\u001b[1;33m\u001b[0m\u001b[0m\n\u001b[1;32m----> 4\u001b[1;33m \u001b[0mplt\u001b[0m\u001b[1;33m.\u001b[0m\u001b[0mscatter\u001b[0m\u001b[1;33m(\u001b[0m\u001b[0mx\u001b[0m\u001b[1;33m,\u001b[0m\u001b[0my\u001b[0m\u001b[1;33m)\u001b[0m\u001b[1;33m\u001b[0m\u001b[1;33m\u001b[0m\u001b[0m\n\u001b[0m\u001b[0;32m      5\u001b[0m \u001b[0mplt\u001b[0m\u001b[1;33m.\u001b[0m\u001b[0mshow\u001b[0m\u001b[1;33m\u001b[0m\u001b[1;33m\u001b[0m\u001b[0m\n",
      "\u001b[1;32m~\\anaconda3\\lib\\site-packages\\matplotlib\\pyplot.py\u001b[0m in \u001b[0;36mscatter\u001b[1;34m(x, y, s, c, marker, cmap, norm, vmin, vmax, alpha, linewidths, verts, edgecolors, plotnonfinite, data, **kwargs)\u001b[0m\n\u001b[0;32m   2809\u001b[0m         \u001b[0mverts\u001b[0m\u001b[1;33m=\u001b[0m\u001b[0mcbook\u001b[0m\u001b[1;33m.\u001b[0m\u001b[0mdeprecation\u001b[0m\u001b[1;33m.\u001b[0m\u001b[0m_deprecated_parameter\u001b[0m\u001b[1;33m,\u001b[0m\u001b[1;33m\u001b[0m\u001b[1;33m\u001b[0m\u001b[0m\n\u001b[0;32m   2810\u001b[0m         edgecolors=None, *, plotnonfinite=False, data=None, **kwargs):\n\u001b[1;32m-> 2811\u001b[1;33m     __ret = gca().scatter(\n\u001b[0m\u001b[0;32m   2812\u001b[0m         \u001b[0mx\u001b[0m\u001b[1;33m,\u001b[0m \u001b[0my\u001b[0m\u001b[1;33m,\u001b[0m \u001b[0ms\u001b[0m\u001b[1;33m=\u001b[0m\u001b[0ms\u001b[0m\u001b[1;33m,\u001b[0m \u001b[0mc\u001b[0m\u001b[1;33m=\u001b[0m\u001b[0mc\u001b[0m\u001b[1;33m,\u001b[0m \u001b[0mmarker\u001b[0m\u001b[1;33m=\u001b[0m\u001b[0mmarker\u001b[0m\u001b[1;33m,\u001b[0m \u001b[0mcmap\u001b[0m\u001b[1;33m=\u001b[0m\u001b[0mcmap\u001b[0m\u001b[1;33m,\u001b[0m \u001b[0mnorm\u001b[0m\u001b[1;33m=\u001b[0m\u001b[0mnorm\u001b[0m\u001b[1;33m,\u001b[0m\u001b[1;33m\u001b[0m\u001b[1;33m\u001b[0m\u001b[0m\n\u001b[0;32m   2813\u001b[0m         \u001b[0mvmin\u001b[0m\u001b[1;33m=\u001b[0m\u001b[0mvmin\u001b[0m\u001b[1;33m,\u001b[0m \u001b[0mvmax\u001b[0m\u001b[1;33m=\u001b[0m\u001b[0mvmax\u001b[0m\u001b[1;33m,\u001b[0m \u001b[0malpha\u001b[0m\u001b[1;33m=\u001b[0m\u001b[0malpha\u001b[0m\u001b[1;33m,\u001b[0m \u001b[0mlinewidths\u001b[0m\u001b[1;33m=\u001b[0m\u001b[0mlinewidths\u001b[0m\u001b[1;33m,\u001b[0m\u001b[1;33m\u001b[0m\u001b[1;33m\u001b[0m\u001b[0m\n",
      "\u001b[1;32m~\\anaconda3\\lib\\site-packages\\matplotlib\\__init__.py\u001b[0m in \u001b[0;36minner\u001b[1;34m(ax, data, *args, **kwargs)\u001b[0m\n\u001b[0;32m   1563\u001b[0m     \u001b[1;32mdef\u001b[0m \u001b[0minner\u001b[0m\u001b[1;33m(\u001b[0m\u001b[0max\u001b[0m\u001b[1;33m,\u001b[0m \u001b[1;33m*\u001b[0m\u001b[0margs\u001b[0m\u001b[1;33m,\u001b[0m \u001b[0mdata\u001b[0m\u001b[1;33m=\u001b[0m\u001b[1;32mNone\u001b[0m\u001b[1;33m,\u001b[0m \u001b[1;33m**\u001b[0m\u001b[0mkwargs\u001b[0m\u001b[1;33m)\u001b[0m\u001b[1;33m:\u001b[0m\u001b[1;33m\u001b[0m\u001b[1;33m\u001b[0m\u001b[0m\n\u001b[0;32m   1564\u001b[0m         \u001b[1;32mif\u001b[0m \u001b[0mdata\u001b[0m \u001b[1;32mis\u001b[0m \u001b[1;32mNone\u001b[0m\u001b[1;33m:\u001b[0m\u001b[1;33m\u001b[0m\u001b[1;33m\u001b[0m\u001b[0m\n\u001b[1;32m-> 1565\u001b[1;33m             \u001b[1;32mreturn\u001b[0m \u001b[0mfunc\u001b[0m\u001b[1;33m(\u001b[0m\u001b[0max\u001b[0m\u001b[1;33m,\u001b[0m \u001b[1;33m*\u001b[0m\u001b[0mmap\u001b[0m\u001b[1;33m(\u001b[0m\u001b[0msanitize_sequence\u001b[0m\u001b[1;33m,\u001b[0m \u001b[0margs\u001b[0m\u001b[1;33m)\u001b[0m\u001b[1;33m,\u001b[0m \u001b[1;33m**\u001b[0m\u001b[0mkwargs\u001b[0m\u001b[1;33m)\u001b[0m\u001b[1;33m\u001b[0m\u001b[1;33m\u001b[0m\u001b[0m\n\u001b[0m\u001b[0;32m   1566\u001b[0m \u001b[1;33m\u001b[0m\u001b[0m\n\u001b[0;32m   1567\u001b[0m         \u001b[0mbound\u001b[0m \u001b[1;33m=\u001b[0m \u001b[0mnew_sig\u001b[0m\u001b[1;33m.\u001b[0m\u001b[0mbind\u001b[0m\u001b[1;33m(\u001b[0m\u001b[0max\u001b[0m\u001b[1;33m,\u001b[0m \u001b[1;33m*\u001b[0m\u001b[0margs\u001b[0m\u001b[1;33m,\u001b[0m \u001b[1;33m**\u001b[0m\u001b[0mkwargs\u001b[0m\u001b[1;33m)\u001b[0m\u001b[1;33m\u001b[0m\u001b[1;33m\u001b[0m\u001b[0m\n",
      "\u001b[1;32m~\\anaconda3\\lib\\site-packages\\matplotlib\\cbook\\deprecation.py\u001b[0m in \u001b[0;36mwrapper\u001b[1;34m(*args, **kwargs)\u001b[0m\n\u001b[0;32m    356\u001b[0m                 \u001b[1;34mf\"%(removal)s.  If any parameter follows {name!r}, they \"\u001b[0m\u001b[1;33m\u001b[0m\u001b[1;33m\u001b[0m\u001b[0m\n\u001b[0;32m    357\u001b[0m                 f\"should be pass as keyword, not positionally.\")\n\u001b[1;32m--> 358\u001b[1;33m         \u001b[1;32mreturn\u001b[0m \u001b[0mfunc\u001b[0m\u001b[1;33m(\u001b[0m\u001b[1;33m*\u001b[0m\u001b[0margs\u001b[0m\u001b[1;33m,\u001b[0m \u001b[1;33m**\u001b[0m\u001b[0mkwargs\u001b[0m\u001b[1;33m)\u001b[0m\u001b[1;33m\u001b[0m\u001b[1;33m\u001b[0m\u001b[0m\n\u001b[0m\u001b[0;32m    359\u001b[0m \u001b[1;33m\u001b[0m\u001b[0m\n\u001b[0;32m    360\u001b[0m     \u001b[1;32mreturn\u001b[0m \u001b[0mwrapper\u001b[0m\u001b[1;33m\u001b[0m\u001b[1;33m\u001b[0m\u001b[0m\n",
      "\u001b[1;32m~\\anaconda3\\lib\\site-packages\\matplotlib\\axes\\_axes.py\u001b[0m in \u001b[0;36mscatter\u001b[1;34m(self, x, y, s, c, marker, cmap, norm, vmin, vmax, alpha, linewidths, verts, edgecolors, plotnonfinite, **kwargs)\u001b[0m\n\u001b[0;32m   4389\u001b[0m         \u001b[0my\u001b[0m \u001b[1;33m=\u001b[0m \u001b[0mnp\u001b[0m\u001b[1;33m.\u001b[0m\u001b[0mma\u001b[0m\u001b[1;33m.\u001b[0m\u001b[0mravel\u001b[0m\u001b[1;33m(\u001b[0m\u001b[0my\u001b[0m\u001b[1;33m)\u001b[0m\u001b[1;33m\u001b[0m\u001b[1;33m\u001b[0m\u001b[0m\n\u001b[0;32m   4390\u001b[0m         \u001b[1;32mif\u001b[0m \u001b[0mx\u001b[0m\u001b[1;33m.\u001b[0m\u001b[0msize\u001b[0m \u001b[1;33m!=\u001b[0m \u001b[0my\u001b[0m\u001b[1;33m.\u001b[0m\u001b[0msize\u001b[0m\u001b[1;33m:\u001b[0m\u001b[1;33m\u001b[0m\u001b[1;33m\u001b[0m\u001b[0m\n\u001b[1;32m-> 4391\u001b[1;33m             \u001b[1;32mraise\u001b[0m \u001b[0mValueError\u001b[0m\u001b[1;33m(\u001b[0m\u001b[1;34m\"x and y must be the same size\"\u001b[0m\u001b[1;33m)\u001b[0m\u001b[1;33m\u001b[0m\u001b[1;33m\u001b[0m\u001b[0m\n\u001b[0m\u001b[0;32m   4392\u001b[0m \u001b[1;33m\u001b[0m\u001b[0m\n\u001b[0;32m   4393\u001b[0m         \u001b[1;32mif\u001b[0m \u001b[0ms\u001b[0m \u001b[1;32mis\u001b[0m \u001b[1;32mNone\u001b[0m\u001b[1;33m:\u001b[0m\u001b[1;33m\u001b[0m\u001b[1;33m\u001b[0m\u001b[0m\n",
      "\u001b[1;31mValueError\u001b[0m: x and y must be the same size"
     ]
    }
   ],
   "source": [
    "x = cluster_map['cluster'].tolist()\n",
    "x = [int(i) for i in x]\n",
    "y = views.tolist()\n",
    "plt.scatter(x,y)\n",
    "plt.show"
   ]
  },
  {
   "cell_type": "code",
   "execution_count": 381,
   "metadata": {},
   "outputs": [
    {
     "output_type": "execute_result",
     "data": {
      "text/plain": [
       "                       user_id                   post_id Categoryenc\n",
       "0     5df49b32cc709107827fb3c7  5ec821ddec493f4a2655889e   011011000\n",
       "1     5ed3748576027d35905ccaab  5ed4cbadbd514d602c1531a6   001001010\n",
       "2     5ed0defa76027d35905cc2de  5eac305f10426255a7aa9dd3   000001111\n",
       "3     5ed0defa76027d35905cc2de  5ed1ff0276027d35905cc60d   001011111\n",
       "4     5ed0defa76027d35905cc2de  5ed3820f76027d35905ccac8   001001010\n",
       "...                        ...                       ...         ...\n",
       "1444  5d60098a653a331687083238  5e7a60edcfc8b713f5ac7d82   000000100\n",
       "1445  5d60098a653a331687083238  5e7a629ccfc8b713f5ac7d84   001101011\n",
       "1446  5d60098a653a331687083238  5e7b1e65cfc8b713f5ac7d90   000000100\n",
       "1447  5d60098a653a331687083238  5e7cc074cfc8b713f5ac7db0   001101111\n",
       "1448  5d60098a653a331687083238  5e1029f22a37d20505da2a79   000010101\n",
       "\n",
       "[1449 rows x 3 columns]"
      ],
      "text/html": "<div>\n<style scoped>\n    .dataframe tbody tr th:only-of-type {\n        vertical-align: middle;\n    }\n\n    .dataframe tbody tr th {\n        vertical-align: top;\n    }\n\n    .dataframe thead th {\n        text-align: right;\n    }\n</style>\n<table border=\"1\" class=\"dataframe\">\n  <thead>\n    <tr style=\"text-align: right;\">\n      <th></th>\n      <th>user_id</th>\n      <th>post_id</th>\n      <th>Categoryenc</th>\n    </tr>\n  </thead>\n  <tbody>\n    <tr>\n      <th>0</th>\n      <td>5df49b32cc709107827fb3c7</td>\n      <td>5ec821ddec493f4a2655889e</td>\n      <td>011011000</td>\n    </tr>\n    <tr>\n      <th>1</th>\n      <td>5ed3748576027d35905ccaab</td>\n      <td>5ed4cbadbd514d602c1531a6</td>\n      <td>001001010</td>\n    </tr>\n    <tr>\n      <th>2</th>\n      <td>5ed0defa76027d35905cc2de</td>\n      <td>5eac305f10426255a7aa9dd3</td>\n      <td>000001111</td>\n    </tr>\n    <tr>\n      <th>3</th>\n      <td>5ed0defa76027d35905cc2de</td>\n      <td>5ed1ff0276027d35905cc60d</td>\n      <td>001011111</td>\n    </tr>\n    <tr>\n      <th>4</th>\n      <td>5ed0defa76027d35905cc2de</td>\n      <td>5ed3820f76027d35905ccac8</td>\n      <td>001001010</td>\n    </tr>\n    <tr>\n      <th>...</th>\n      <td>...</td>\n      <td>...</td>\n      <td>...</td>\n    </tr>\n    <tr>\n      <th>1444</th>\n      <td>5d60098a653a331687083238</td>\n      <td>5e7a60edcfc8b713f5ac7d82</td>\n      <td>000000100</td>\n    </tr>\n    <tr>\n      <th>1445</th>\n      <td>5d60098a653a331687083238</td>\n      <td>5e7a629ccfc8b713f5ac7d84</td>\n      <td>001101011</td>\n    </tr>\n    <tr>\n      <th>1446</th>\n      <td>5d60098a653a331687083238</td>\n      <td>5e7b1e65cfc8b713f5ac7d90</td>\n      <td>000000100</td>\n    </tr>\n    <tr>\n      <th>1447</th>\n      <td>5d60098a653a331687083238</td>\n      <td>5e7cc074cfc8b713f5ac7db0</td>\n      <td>001101111</td>\n    </tr>\n    <tr>\n      <th>1448</th>\n      <td>5d60098a653a331687083238</td>\n      <td>5e1029f22a37d20505da2a79</td>\n      <td>000010101</td>\n    </tr>\n  </tbody>\n</table>\n<p>1449 rows × 3 columns</p>\n</div>"
     },
     "metadata": {},
     "execution_count": 381
    }
   ],
   "source": [
    "postviewer['Categoryenc']= postviewer['Categoryenc'].astype(str)\n",
    "postviewer"
   ]
  },
  {
   "cell_type": "code",
   "execution_count": 382,
   "metadata": {},
   "outputs": [],
   "source": [
    "def get_category(userid):\n",
    "    encoded = postviewer[postviewer['user_id'] == userid]['Categoryenc'].tolist()\n",
    "    # print(encoded)\n",
    "    i = random.randint(0,len(encoded)-1)\n",
    "    go = encoded[i]\n",
    "    return go"
   ]
  },
  {
   "cell_type": "code",
   "execution_count": 383,
   "metadata": {},
   "outputs": [],
   "source": [
    "def recommendation(usercategory):\n",
    "    clusternum = cluster_map[cluster_map['category'] == usercategory]['cluster'].tolist()\n",
    "    # print(clusternum)\n",
    "    i = random.randint(0, len(clusternum)-1)\n",
    "    # print(i)\n",
    "    number = clusternum[i]\n",
    "    # print(number)\n",
    "    category = cluster_map[cluster_map['cluster'] == number]['category'].tolist()\n",
    "    # print(category)\n",
    "    i = random.randint(0, len(category)-1)\n",
    "    # print(i)\n",
    "    categorychoice = category[i]\n",
    "    # print(categorychoice)\n",
    "    postrec = posts_df[posts_df['cate'] == categorychoice]['title'].tolist()\n",
    "    # print(postrec)\n",
    "    if len(postrec) > 0:\n",
    "        i = random.randint(0, len(postrec)-1)\n",
    "        if postrec[i]:\n",
    "            a = postrec[i]\n",
    "            return a\n",
    "        else:\n",
    "\n",
    "            print('Please Check out other categories')\n",
    "            \n",
    "             \n",
    "    else:\n",
    "        print('Need more data :(')\n",
    "        \n"
   ]
  },
  {
   "cell_type": "code",
   "execution_count": 384,
   "metadata": {
    "tags": []
   },
   "outputs": [
    {
     "output_type": "execute_result",
     "data": {
      "text/plain": [
       "'Decision Making with 7 steps !!!'"
      ]
     },
     "metadata": {},
     "execution_count": 384
    }
   ],
   "source": [
    "# usercat = get_category('5ed0defa76027d35905cc2de')\n",
    "recommendation('001001010')"
   ]
  },
  {
   "source": [
    "Final Recommedation engine function"
   ],
   "cell_type": "markdown",
   "metadata": {}
  },
  {
   "cell_type": "code",
   "execution_count": 385,
   "metadata": {},
   "outputs": [],
   "source": [
    "def engine(user):\n",
    "    userchoice = get_category(user)\n",
    "    post = recommendation(userchoice)\n",
    "    return post\n",
    "    \n",
    "        "
   ]
  },
  {
   "source": [
    "Usage:\n",
    "\n",
    "1) Enter Usersid as parameter call\n",
    " \n",
    "2) It will look into cluster group to find posts relevant to the categories the user has viewed."
   ],
   "cell_type": "markdown",
   "metadata": {}
  },
  {
   "cell_type": "code",
   "execution_count": 498,
   "metadata": {
    "tags": []
   },
   "outputs": [
    {
     "output_type": "execute_result",
     "data": {
      "text/plain": [
       "'Your reaction can change your destination.'"
      ]
     },
     "metadata": {},
     "execution_count": 498
    }
   ],
   "source": [
    "engine('5ed0defa76027d35905cc2de')"
   ]
  },
  {
   "cell_type": "code",
   "execution_count": null,
   "metadata": {},
   "outputs": [],
   "source": []
  }
 ]
}